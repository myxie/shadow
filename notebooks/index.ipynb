{
 "cells": [
  {
   "cell_type": "markdown",
   "metadata": {},
   "source": [
    "<img style=\"float: right;\" src=\"shadow.png\"/>\n",
    "\n",
    "# SHADOW Framework\n",
    "\n",
    "### *Scheduling algorithms for DAG Workflows*"
   ]
  },
  {
   "cell_type": "markdown",
   "metadata": {},
   "source": [
    "SHADOW is a library for the use and testing of DAG-based workflow\n",
    "scheduling algorithms. SHADOW provides implementations of various heuristic and metaheuristic algorithms to address single-and multi-objective scheduling problems; these algorithms are accessed using a workflow-oriented class system built into the library."
   ]
  },
  {
   "cell_type": "markdown",
   "metadata": {},
   "source": [
    "## About this 'Poster'\n",
    "\n",
    "In this notebook, we cover some of the main components of interest in the SHADOW framework. The intention is to give users who are both new to the discipline of Workflow Scheduling, and familiar with the concepts, an introduction into the functionality of the framework, and why it is useful for the workflow scheduling community. \n",
    "    \n",
    "This notebook uses the `ipywidgets` library as a way of interacting with the library, and to play around with the various options that are available - make sure you run the [widget setup](#Widget-setup) first.\n",
    "\n",
    "Feel free to play around and break the code! "
   ]
  },
  {
   "cell_type": "markdown",
   "metadata": {},
   "source": [
    "### Table of Contents\n",
    "\n",
    "[Widget setup](#Widget-setup)\n",
    "\n",
    "[Models and your first `workflow`](#Models-in-Shadow)\n",
    "\n",
    "[Running algorithms and visualisations](#Algorithms-and-Visualisation)\n",
    "\n",
    "[SHADOWGen and transating graphs](#SHADOWGen)\n"
   ]
  },
  {
   "cell_type": "markdown",
   "metadata": {},
   "source": [
    "## `models` in Shadow \n",
    "\n",
    "[Back to top](#Table-of-Contents)"
   ]
  },
  {
   "cell_type": "markdown",
   "metadata": {},
   "source": [
    "The foundational component of any Workflow Scheduling problem is the Directed-Acyclic Graph, or DAG. An example is shown below: ![](example.png)"
   ]
  },
  {
   "cell_type": "markdown",
   "metadata": {},
   "source": [
    "Here, nodes represent an application task (for example, a Fourier transform, or data aggregation method), and edges represent the data dependencies between each application (e.g. Task 6 cannot start until it has received the data from Task (\"application\") 2). \n",
    "\n"
   ]
  },
  {
   "cell_type": "markdown",
   "metadata": {},
   "source": [
    "In SHADOW, this structure is wrapped up in the `models` package - specifically, the `Workflow` class. We leverage the popular [`networkx` Python package](https://networkx.github.io/) to represent the DAG that is the basis of the `Workflow` class, as well as extending on this to make algorithm development more intuitive.  "
   ]
  },
  {
   "cell_type": "markdown",
   "metadata": {},
   "source": [
    "The `models` component of SHADOW provides the data structures and environments from which you can build an algorithm and visualise results. "
   ]
  },
  {
   "cell_type": "code",
   "execution_count": 12,
   "metadata": {},
   "outputs": [],
   "source": [
    "from shadow.models.workflow import Workflow, Task\n",
    "from shadow.models.environment import Environment, Machine"
   ]
  },
  {
   "cell_type": "code",
   "execution_count": 69,
   "metadata": {
    "pycharm": {
     "name": "#%%\n"
    }
   },
   "outputs": [],
   "source": [
    "widget,tasks,edges = ipywidget_models_setup()"
   ]
  },
  {
   "cell_type": "markdown",
   "metadata": {},
   "source": [
    "The standard approach to setting up the workflow is to import from a JSON file:"
   ]
  },
  {
   "cell_type": "code",
   "execution_count": 36,
   "metadata": {},
   "outputs": [],
   "source": [
    "workflow = Workflow('examples/dag.json')"
   ]
  },
  {
   "cell_type": "markdown",
   "metadata": {},
   "source": [
    "This is imported 'behind the scences' as a `networkx` graph, which is available from workflow.graph:"
   ]
  },
  {
   "cell_type": "code",
   "execution_count": 61,
   "metadata": {},
   "outputs": [
    {
     "data": {
      "text/plain": [
       "NodeView((0, 1, 2, 3, 4, 5, 6, 7, 8, 9))"
      ]
     },
     "execution_count": 61,
     "metadata": {},
     "output_type": "execute_result"
    }
   ],
   "source": [
    "workflow.graph\n",
    "workflow.graph.nodes"
   ]
  },
  {
   "cell_type": "markdown",
   "metadata": {},
   "source": [
    "Click below to see the differences between some common networkx/SHADOW interactions:"
   ]
  },
  {
   "cell_type": "code",
   "execution_count": 70,
   "metadata": {},
   "outputs": [
    {
     "data": {
      "application/vnd.jupyter.widget-view+json": {
       "model_id": "0483cd625eed410b852378904581f5e6",
       "version_major": 2,
       "version_minor": 0
      },
      "text/plain": [
       "TwoByTwoLayout(children=(RadioButtons(description='SHADOW vs networkx tasks:', layout=Layout(grid_area='top-le…"
      ]
     },
     "metadata": {},
     "output_type": "display_data"
    }
   ],
   "source": [
    "widget"
   ]
  },
  {
   "cell_type": "code",
   "execution_count": 74,
   "metadata": {
    "scrolled": true
   },
   "outputs": [
    {
     "data": {
      "text/plain": [
       "('workflow.graph.nodes', 'workflow.graph.edges')"
      ]
     },
     "execution_count": 74,
     "metadata": {},
     "output_type": "execute_result"
    }
   ],
   "source": [
    "tasks.value, edges.value # Copies these in a cell below to see how they work! "
   ]
  },
  {
   "cell_type": "markdown",
   "metadata": {},
   "source": [
    "The `Workflow` tasks are actually represented in the graph as `Task` objects, too - the `Task` class provides some useful functions to access some `Task` data, such as calculating the computation costs of a task on different machines.\n",
    "\n",
    "There are options to extend the Task as well, in the even that an algorithm is built with additional objectives in mind (which is likely in Cloud scheduling etc.):\n"
   ]
  },
  {
   "cell_type": "code",
   "execution_count": 83,
   "metadata": {
    "pycharm": {
     "name": "#%%\n"
    }
   },
   "outputs": [],
   "source": [
    "class CloudTask(Task):\n",
    "   \n",
    "    def __init__(self,tid,flops):\n",
    "        super().__init__(tid)\n",
    "        self.cost = None\n",
    "        \n",
    "    def calculate_cost_on_machine(self,machine):\n",
    "        return self.calc_runtime(machine=machine)*machine.cost\n",
    "    \n",
    "workflow = Workflow('examples/dag.json', taskobj=CloudTask)"
   ]
  },
  {
   "cell_type": "code",
   "execution_count": null,
   "metadata": {},
   "outputs": [],
   "source": []
  },
  {
   "cell_type": "markdown",
   "metadata": {
    "pycharm": {
     "name": "#%% md\n"
    }
   },
   "source": [
    " <a id='#section2'></a>"
   ]
  },
  {
   "cell_type": "markdown",
   "metadata": {
    "pycharm": {
     "name": "#%% md\n"
    }
   },
   "source": [
    "## Algorithms and Visualisation\n",
    " [Back to top](#Table-of-Contents)\n",
    " \n",
    " As discussed above, the main point of SHADOW is to provide a repository of implemented algorithms for benchmarking and testing new algorithms. The options below are indicative of the different algorithms and data files that can be used to run an algorithm - and how the `Workflow` class interacts with the `algorithms` modules. \n"
   ]
  },
  {
   "cell_type": "code",
   "execution_count": 84,
   "metadata": {
    "pycharm": {
     "name": "#%%\n"
    }
   },
   "outputs": [
    {
     "data": {
      "application/vnd.jupyter.widget-view+json": {
       "model_id": "066d437c9cf54bf9a887101479f93cb5",
       "version_major": 2,
       "version_minor": 0
      },
      "text/plain": [
       "TwoByTwoLayout(children=(Dropdown(description='Heuristic selection:', layout=Layout(grid_area='top-left'), opt…"
      ]
     },
     "metadata": {},
     "output_type": "display_data"
    }
   ],
   "source": [
    "widget,algorithm_choice,file_choice,sys_choice=ipywidget_algorithm_setup()\n",
    "display(widget)"
   ]
  },
  {
   "cell_type": "code",
   "execution_count": 3,
   "metadata": {
    "pycharm": {
     "name": "#%%\n"
    }
   },
   "outputs": [
    {
     "name": "stdout",
     "output_type": "stream",
     "text": [
      "Makespan is:  98\n"
     ]
    }
   ],
   "source": [
    "# Get selection\n",
    "algorithm = algorithm_choice.value\n",
    "workflow_file = file_choice.value\n",
    "sys = sys_choice.value\n",
    "# Standard algorithm imports\n",
    "from shadow.algorithms.heuristic import heft, pheft, fcfs\n",
    "from shadow.models.workflow import Workflow\n",
    "from shadow.models.environment import Environment\n",
    "\n",
    "\n",
    "workflow = Workflow(workflow_file)\n",
    "env = Environment(sys)\n",
    "workflow.add_environment(env)\n",
    "solution = algorithm(workflow)\n",
    "print(\"Makespan is: \", solution.makespan)"
   ]
  },
  {
   "cell_type": "markdown",
   "metadata": {
    "pycharm": {
     "name": "#%% md\n"
    }
   },
   "source": [
    "### Visualising the results"
   ]
  },
  {
   "cell_type": "markdown",
   "metadata": {},
   "source": [
    "If we use the above results, we can do some different visualisations - these are often hand-made in publications, which takes unnecessary time and effort! "
   ]
  },
  {
   "cell_type": "code",
   "execution_count": 5,
   "metadata": {
    "pycharm": {
     "name": "#%%\n"
    }
   },
   "outputs": [
    {
     "data": {
      "image/png": "[encoded data removed]",
      "text/plain": [
       "<Figure size 432x288 with 3 Axes>"
      ]
     },
     "metadata": {
      "needs_background": "light"
     },
     "output_type": "display_data"
    }
   ],
   "source": [
    "import shadow.visualiser.plot as splot\n",
    "import matplotlib.pyplot as plt\n",
    "\n",
    "\n",
    "heft_plot = splot.AllocationPlot(solution)\n",
    "heft_fig, heft_ax = heft_plot.plot()\n",
    "plt.show()"
   ]
  },
  {
   "cell_type": "markdown",
   "metadata": {
    "pycharm": {
     "name": "#%% md\n"
    }
   },
   "source": [
    "## SHADOWGen\n",
    "\n",
    "SHADOWGen collates a number of tools that are used in both the task-scheduling community, and the workflow scheduling community. For example, DAX graphs are formatted using XML generated by the Pegasus project and [Workflow Generator](https://github.com/pegasus-isi/WorkflowGenerator). Running the cell below demonstrates the typical structure of a DAX file. "
   ]
  },
  {
   "cell_type": "code",
   "execution_count": 6,
   "metadata": {
    "pycharm": {
     "name": "#%%\n"
    }
   },
   "outputs": [
    {
     "data": {
      "application/vnd.jupyter.widget-view+json": {
       "model_id": "959c375ffffc4e278dbcabead73d09a2",
       "version_major": 2,
       "version_minor": 0
      },
      "text/plain": [
       "Dropdown(description='Heuristic selection:', options=(('HEFT Paper DAG', 'examples/HEFT_paper.xml'), ('Cybersh…"
      ]
     },
     "metadata": {},
     "output_type": "display_data"
    }
   ],
   "source": [
    "file_choice = ipywidget_shadowgen_setup()\n",
    "display(file_choice)"
   ]
  },
  {
   "cell_type": "code",
   "execution_count": null,
   "metadata": {},
   "outputs": [],
   "source": [
    "!cat $file_choice.value"
   ]
  },
  {
   "cell_type": "markdown",
   "metadata": {
    "pycharm": {
     "name": "#%% md\n"
    }
   },
   "source": [
    "DAX files contain a lot of metadata information that is not necessary for running benchmarking and testing the algorithms, and the structure is slightly different to that of other graph formats. This is why we have chosen to implement our own format that models a dictionary, which is more Pythonic as well as being easier to extend with the NetworkX integration. "
   ]
  },
  {
   "cell_type": "code",
   "execution_count": 11,
   "metadata": {},
   "outputs": [],
   "source": [
    "from utils.shadowgen import dax\n",
    "import networkx as nx\n",
    "import pydot\n",
    "import graphviz\n",
    "import sys\n",
    "import os \n",
    "from IPython.display import Image, display\n",
    "\n",
    "# print(sys.path[0])\n",
    "# sys.path.append('/experiments/dax_files/')\n",
    "\n",
    "# print(os.chdir('../experiments/dax_files/'))\n"
   ]
  },
  {
   "cell_type": "code",
   "execution_count": 12,
   "metadata": {},
   "outputs": [],
   "source": [
    "dax.clean_xml(file_choice.value, 'output/edit_dax.xml', 'xmlns',\n",
    "    '<adag version=\"2.1\" count=\"1\" index=\"0\" name=\"test\" jobCount=\"25\" fileCount=\"0\" childCount=\"20\">\\n')\n",
    "# moves edited xml to the nx DiGraph object\n",
    "finished_dag = dax.build_dag('output/edit_dax.xml')\n",
    "dax.generate_shadow_json(finished_dag, 'output/dax.json')"
   ]
  },
  {
   "cell_type": "code",
   "execution_count": 13,
   "metadata": {},
   "outputs": [
    {
     "name": "stdout",
     "output_type": "stream",
     "text": [
      "\n",
      "{\n",
      "  \"header\": {\n",
      "    \"time\": false\n",
      "  },\n",
      "  \"graph\": {\n",
      "    \"directed\": true,\n",
      "    \"multigraph\": false,\n",
      "    \"graph\": {},\n",
      "    \"nodes\": [\n",
      "      {\n",
      "        \"comp\": 103520.0,\n",
      "        \"id\": \"ID00000\"\n",
      "      },\n",
      "      {\n",
      "        \"comp\": 7010.0,\n",
      "        \"id\": \"ID00001\"\n",
      "      },\n",
      "      {\n",
      "        \"comp\": 8230.0,\n",
      "        \"id\": \"ID00002\"\n",
      "      },\n",
      "      {\n",
      "        \"comp\": 8150.0,\n",
      "        \"id\": \"ID00003\"\n",
      "      },\n",
      "      {\n",
      "        \"comp\": 9250.0,\n",
      "        \"id\": \"ID00004\"\n",
      "      },\n",
      "      {\n",
      "        \"comp\": 11890.0,\n",
      "        \"id\": \"ID00005\"\n",
      "      },\n",
      "      {\n",
      "        \"comp\": 2360.0,\n",
      "        \"id\": \"ID00006\"\n",
      "      },\n",
      "      {\n",
      "        \"comp\": 3540.0,\n",
      "        \"id\": \"ID00007\"\n",
      "      },\n",
      "      {\n",
      "        \"comp\": 3260.0,\n",
      "        \"id\": \"ID00008\"\n",
      "      },\n",
      "      {\n",
      "        \"comp\": 3060.0,\n",
      "        \"id\": \"ID00009\"\n",
      "      },\n",
      "      {\n",
      "        \"comp\": 5020.0,\n",
      "        \"id\": \"ID00010\"\n",
      "      },\n",
      "      {\n",
      "        \"comp\": 4250.0,\n",
      "        \"id\": \"ID00011\"\n",
      "      },\n",
      "      {\n",
      "        \"comp\": 5910.0,\n",
      "        \"id\": \"ID00012\"\n",
      "      },\n",
      "      {\n",
      "        \"comp\": 4030.0000000000005,\n",
      "        \"id\": \"ID00013\"\n",
      "      },\n",
      "      {\n",
      "        \"comp\": 4720.0,\n",
      "        \"id\": \"ID00014\"\n",
      "      },\n",
      "      {\n",
      "        \"comp\": 5160.0,\n",
      "        \"id\": \"ID00015\"\n",
      "      },\n",
      "      {\n",
      "        \"comp\": 2830540.0,\n",
      "        \"id\": \"ID00016\"\n",
      "      },\n",
      "      {\n",
      "        \"comp\": 3196400.0,\n",
      "        \"id\": \"ID00017\"\n",
      "      },\n",
      "      {\n",
      "        \"comp\": 2425310.0,\n",
      "        \"id\": \"ID00018\"\n",
      "      },\n",
      "      {\n",
      "        \"comp\": 3623080.0,\n",
      "        \"id\": \"ID00019\"\n",
      "      },\n",
      "      {\n",
      "        \"comp\": 4062960.0,\n",
      "        \"id\": \"ID00020\"\n",
      "      },\n",
      "      {\n",
      "        \"comp\": 17230.0,\n",
      "        \"id\": \"ID00021\"\n",
      "      },\n",
      "      {\n",
      "        \"comp\": 50.0,\n",
      "        \"id\": \"ID00022\"\n",
      "      },\n",
      "      {\n",
      "        \"comp\": 1375220.0,\n",
      "        \"id\": \"ID00023\"\n",
      "      }\n",
      "    ],\n",
      "    \"links\": [\n",
      "      {\n",
      "        \"data_size\": 85.534312,\n",
      "        \"source\": \"ID00000\",\n",
      "        \"target\": \"ID00001\"\n",
      "      },\n",
      "      {\n",
      "        \"data_size\": 98.262176,\n",
      "        \"source\": \"ID00000\",\n",
      "        \"target\": \"ID00002\"\n",
      "      },\n",
      "      {\n",
      "        \"data_size\": 80.623179,\n",
      "        \"source\": \"ID00000\",\n",
      "        \"target\": \"ID00003\"\n",
      "      },\n",
      "      {\n",
      "        \"data_size\": 98.592518,\n",
      "        \"source\": \"ID00000\",\n",
      "        \"target\": \"ID00004\"\n",
      "      },\n",
      "      {\n",
      "        \"data_size\": 83.84717,\n",
      "        \"source\": \"ID00000\",\n",
      "        \"target\": \"ID00005\"\n",
      "      },\n",
      "      {\n",
      "        \"data_size\": 44.066037,\n",
      "        \"source\": \"ID00001\",\n",
      "        \"target\": \"ID00006\"\n",
      "      },\n",
      "      {\n",
      "        \"data_size\": 48.142335,\n",
      "        \"source\": \"ID00002\",\n",
      "        \"target\": \"ID00007\"\n",
      "      },\n",
      "      {\n",
      "        \"data_size\": 38.553524,\n",
      "        \"source\": \"ID00003\",\n",
      "        \"target\": \"ID00008\"\n",
      "      },\n",
      "      {\n",
      "        \"data_size\": 47.435716,\n",
      "        \"source\": \"ID00004\",\n",
      "        \"target\": \"ID00009\"\n",
      "      },\n",
      "      {\n",
      "        \"data_size\": 43.314524,\n",
      "        \"source\": \"ID00005\",\n",
      "        \"target\": \"ID00010\"\n",
      "      },\n",
      "      {\n",
      "        \"data_size\": 24.613282,\n",
      "        \"source\": \"ID00006\",\n",
      "        \"target\": \"ID00011\"\n",
      "      },\n",
      "      {\n",
      "        \"data_size\": 44.75397,\n",
      "        \"source\": \"ID00007\",\n",
      "        \"target\": \"ID00012\"\n",
      "      },\n",
      "      {\n",
      "        \"data_size\": 24.969343,\n",
      "        \"source\": \"ID00008\",\n",
      "        \"target\": \"ID00013\"\n",
      "      },\n",
      "      {\n",
      "        \"data_size\": 36.701822,\n",
      "        \"source\": \"ID00009\",\n",
      "        \"target\": \"ID00014\"\n",
      "      },\n",
      "      {\n",
      "        \"data_size\": 37.310027,\n",
      "        \"source\": \"ID00010\",\n",
      "        \"target\": \"ID00015\"\n",
      "      },\n",
      "      {\n",
      "        \"data_size\": 6.918721,\n",
      "        \"source\": \"ID00011\",\n",
      "        \"target\": \"ID00016\"\n",
      "      },\n",
      "      {\n",
      "        \"data_size\": 10.323313,\n",
      "        \"source\": \"ID00012\",\n",
      "        \"target\": \"ID00017\"\n",
      "      },\n",
      "      {\n",
      "        \"data_size\": 5.956867,\n",
      "        \"source\": \"ID00013\",\n",
      "        \"target\": \"ID00018\"\n",
      "      },\n",
      "      {\n",
      "        \"data_size\": 9.015905,\n",
      "        \"source\": \"ID00014\",\n",
      "        \"target\": \"ID00019\"\n",
      "      },\n",
      "      {\n",
      "        \"data_size\": 9.039432,\n",
      "        \"source\": \"ID00015\",\n",
      "        \"target\": \"ID00020\"\n",
      "      },\n",
      "      {\n",
      "        \"data_size\": 7.520348,\n",
      "        \"source\": \"ID00016\",\n",
      "        \"target\": \"ID00021\"\n",
      "      },\n",
      "      {\n",
      "        \"data_size\": 11.220992,\n",
      "        \"source\": \"ID00017\",\n",
      "        \"target\": \"ID00021\"\n",
      "      },\n",
      "      {\n",
      "        \"data_size\": 6.474855,\n",
      "        \"source\": \"ID00018\",\n",
      "        \"target\": \"ID00021\"\n",
      "      },\n",
      "      {\n",
      "        \"data_size\": 9.799896,\n",
      "        \"source\": \"ID00019\",\n",
      "        \"target\": \"ID00021\"\n",
      "      },\n",
      "      {\n",
      "        \"data_size\": 9.825469,\n",
      "        \"source\": \"ID00020\",\n",
      "        \"target\": \"ID00021\"\n",
      "      },\n",
      "      {\n",
      "        \"data_size\": 42.303358,\n",
      "        \"source\": \"ID00021\",\n",
      "        \"target\": \"ID00022\"\n",
      "      },\n",
      "      {\n",
      "        \"data_size\": 0.641552,\n",
      "        \"source\": \"ID00022\",\n",
      "        \"target\": \"ID00023\"\n",
      "      }\n",
      "    ]\n",
      "  }\n",
      "}"
     ]
    }
   ],
   "source": [
    "# Verify output is correct JSON\n",
    "print(finished_dag)\n",
    "!cat 'output/dax.json'"
   ]
  },
  {
   "cell_type": "code",
   "execution_count": 6,
   "metadata": {
    "pycharm": {
     "name": "#%%\n"
    }
   },
   "outputs": [
    {
     "data": {
      "text/plain": [
       "'example.png'"
      ]
     },
     "execution_count": 6,
     "metadata": {},
     "output_type": "execute_result"
    }
   ],
   "source": [
    "from shadow.models.workflow import Workflow\n",
    "from shadow.visualiser.graph import convert_to_graphviz\n",
    "workflow = Workflow('../experiments/basic_visualisation/final_heft.json')\n",
    "\n",
    "graph =convert_to_graphviz(workflow)\n",
    "graph.format = 'png'\n",
    "graph.render('example', view=True)  "
   ]
  },
  {
   "cell_type": "code",
   "execution_count": null,
   "metadata": {},
   "outputs": [],
   "source": []
  },
  {
   "cell_type": "markdown",
   "metadata": {},
   "source": [
    "# Widget setup\n",
    " [Back to top](#Table-of-Contents)\n",
    "\n",
    "To make things easier and more fun(!) to interact with, this poster has `ipywidget` functionality. However, it is a bit cumbersome to have both SHADOW code and widget code in the same document, so I've created some helper functions to reduce the code cells that are needed to display the widgets. Running the following code cells will ensure you can use dropdown menus and radio buttons to your hearts content! "
   ]
  },
  {
   "cell_type": "code",
   "execution_count": null,
   "metadata": {
    "pycharm": {
     "name": "#%%\n"
    }
   },
   "outputs": [],
   "source": [
    "from shadow.algorithms.heuristic import heft, pheft, fcfs\n",
    "from ipywidgets import interact, widgets, TwoByTwoLayout\n",
    "\n",
    "def ipywidget_algorithm_setup():\n",
    "    style = {'description_width': 'initial', 'width': 'auto'}\n",
    "\n",
    "    algo = widgets.Dropdown(\n",
    "        options=[('heft', heft), ('pheft', pheft), ('fcfs', fcfs)],\n",
    "        # value='pineapple', # Defaults to 'pineapple'\n",
    "        # layout={'width': 'max-content'}, # If the items' names are long\n",
    "        description='Heuristic selection:',\n",
    "        style=style,\n",
    "        disabled=False\n",
    "    )\n",
    "    import os\n",
    "    # os.chdir('../test/data/shadowgen/')\n",
    "    file_list = [('Basic DAG', 'examples/dag.json'), ('Epigenomics Pipeline', 'examples/shadow_Epigenomics_24.json')]\n",
    "    files = widgets.Dropdown(\n",
    "        options=file_list,\n",
    "    #    layout={'width': 'max-content'}, # If the items' names are long\n",
    "        description='DAX Workflow File:',\n",
    "        style=style,\n",
    "        disabled=False\n",
    "    )\n",
    "    \n",
    "    sys  = widgets.Dropdown(\n",
    "        options=[('Basic system config', 'examples/sys.json')],\n",
    "    #    layout={'width': 'max-content'}, # If the items' names are long\n",
    "        description='DAX Workflow File:',\n",
    "        style=style,\n",
    "        disabled=False\n",
    "    )\n",
    "    \n",
    "    \n",
    "    return TwoByTwoLayout(top_left=algo,bottom_left=files, top_right=sys), algo, files, sys\n",
    "\n",
    "\n",
    "\n",
    "def ipywidget_shadowgen_setup():\n",
    "    style = {'description_width': 'initial', 'width': 'auto'}\n",
    "\n",
    "    files = widgets.Dropdown(\n",
    "        options=[\n",
    "            (\"HEFT Paper DAG\",\"examples/HEFT_paper.xml\"),\n",
    "            ('Cybershake','examples/cybershake_30.xml'), \n",
    "            ('Epigenomics', 'examples/Epigenomics_24.xml'), \n",
    "            ('Montage', 'examples/Montage_25.xml')\n",
    "        ],\n",
    "        # value='pineapple', # Defaults to 'pineapple'\n",
    "        # layout={'width': 'max-content'}, # If the items' names are long\n",
    "        description='Heuristic selection:',\n",
    "        style=style,\n",
    "        disabled=False\n",
    "    )\n",
    "\n",
    "\n",
    "    return files\n",
    "\n",
    "def ipywidget_models_setup():\n",
    "    checkbox =  widgets.Checkbox(\n",
    "        value=False,\n",
    "        description='Check me',\n",
    "        disabled=False,\n",
    "        indent=False\n",
    "    )\n",
    "    return checkbox"
   ]
  },
  {
   "cell_type": "markdown",
   "metadata": {},
   "source": [
    " [Back to top](#Table-of-Contents)\n"
   ]
  },
  {
   "cell_type": "code",
   "execution_count": 68,
   "metadata": {},
   "outputs": [],
   "source": [
    "from shadow.algorithms.heuristic import heft, pheft, fcfs\n",
    "from ipywidgets import interact, widgets, TwoByTwoLayout\n",
    "style = {'description_width': 'initial', 'width': 'auto'}\n",
    "\n",
    "def ipywidget_algorithm_setup():\n",
    "\n",
    "    algo = widgets.Dropdown(\n",
    "        options=[('heft', heft), ('pheft', pheft), ('fcfs', fcfs)],\n",
    "        # value='pineapple', # Defaults to 'pineapple'\n",
    "        # layout={'width': 'max-content'}, # If the items' names are long\n",
    "        description='Heuristic selection:',\n",
    "        style=style,\n",
    "        disabled=False\n",
    "    )\n",
    "    import os\n",
    "    # os.chdir('../test/data/shadowgen/')\n",
    "    file_list = [('Basic DAG', 'examples/dag.json'), ('Epigenomics Pipeline', 'examples/shadow_Epigenomics_24.json')]\n",
    "    files = widgets.Dropdown(\n",
    "        options=file_list,\n",
    "    #    layout={'width': 'max-content'}, # If the items' names are long\n",
    "        description='DAX Workflow File:',\n",
    "        style=style,\n",
    "        disabled=False\n",
    "    )\n",
    "    \n",
    "    sys  = widgets.Dropdown(\n",
    "        options=[('Basic system config', 'examples/sys.json')],\n",
    "    #    layout={'width': 'max-content'}, # If the items' names are long\n",
    "        description='DAX Workflow File:',\n",
    "        style=style,\n",
    "        disabled=False\n",
    "    )\n",
    "    \n",
    "    \n",
    "    return TwoByTwoLayout(top_left=algo,bottom_left=files, top_right=sys), algo, files, sys\n",
    "\n",
    "\n",
    "\n",
    "def ipywidget_shadowgen_setup():\n",
    "    style = {'description_width': 'initial', 'width': 'auto'}\n",
    "\n",
    "    files = widgets.Dropdown(\n",
    "        options=[\n",
    "            (\"HEFT Paper DAG\",\"examples/HEFT_paper.xml\"),\n",
    "            ('Cybershake','examples/cybershake_30.xml'), \n",
    "            ('Epigenomics', 'examples/Epigenomics_24.xml'), \n",
    "            ('Montage', 'examples/Montage_25.xml')\n",
    "        ],\n",
    "        # value='pineapple', # Defaults to 'pineapple'\n",
    "        # layout={'width': 'max-content'}, # If the items' names are long\n",
    "        description='Heuristic selection:',\n",
    "        style=style,\n",
    "        disabled=False\n",
    "    )\n",
    "\n",
    "\n",
    "    return files\n",
    "\n",
    "def ipywidget_models_setup():\n",
    "    checkbox =  widgets.Checkbox(\n",
    "        value=False,\n",
    "        description='Check me',\n",
    "        disabled=False,\n",
    "        indent=False\n",
    "    )\n",
    "    task_selection = widgets.RadioButtons(\n",
    "        options=[('SHADOW tasks', 'workflow.tasks'),('Networkx ','workflow.graph.nodes') ],\n",
    "        description='SHADOW vs networkx tasks:',\n",
    "        style=style,\n",
    "        layout={'width':'max-content'},\n",
    "        disabled=False\n",
    "    )\n",
    "\n",
    "    edge_selection = widgets.RadioButtons(\n",
    "        options=[('SHADOW edges', 'workflow.edges'),('Networkx ','workflow.graph.edges') ],\n",
    "        description='SHADOW vs networkx edges:',\n",
    "        style=style,\n",
    "        layout={'width':'max-content'},\n",
    "        disabled=False\n",
    "    )\n",
    "    return TwoByTwoLayout(top_left=task_selection, top_right=edge_selection), task_selection,edge_selection"
   ]
  },
  {
   "cell_type": "markdown",
   "metadata": {},
   "source": [
    " [Back to top](#Table-of-Contents)\n"
   ]
  },
  {
   "cell_type": "code",
   "execution_count": null,
   "metadata": {},
   "outputs": [],
   "source": []
  }
 ],
 "metadata": {
  "kernelspec": {
   "display_name": "Python 3",
   "language": "python",
   "name": "python3"
  },
  "language_info": {
   "codemirror_mode": {
    "name": "ipython",
    "version": 3
   },
   "file_extension": ".py",
   "mimetype": "text/x-python",
   "name": "python",
   "nbconvert_exporter": "python",
   "pygments_lexer": "ipython3",
   "version": "3.7.3"
  },
  "pycharm": {
   "stem_cell": {
    "cell_type": "raw",
    "metadata": {
     "collapsed": false
    },
    "source": []
   }
  }
 },
 "nbformat": 4,
 "nbformat_minor": 1
}
