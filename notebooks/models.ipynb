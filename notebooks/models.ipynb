{
 "cells": [
  {
   "cell_type": "markdown",
   "metadata": {},
   "source": [
    "[Back to Home Page](index.ipynb)"
   ]
  },
  {
   "cell_type": "markdown",
   "metadata": {},
   "source": [
    "# Models\n",
    "\n",
    "The `models` component of SHADOW provides the data structures and environments from which you can build an algorithm and visualise results. "
   ]
  },
  {
   "cell_type": "code",
   "execution_count": 1,
   "metadata": {},
   "outputs": [],
   "source": [
    "from shadow.models.workflow import Workflow, Task\n",
    "from shadow.models.environmentb import Environment, Machine"
   ]
  },
  {
   "cell_type": "markdown",
   "metadata": {},
   "source": [
    "There are options to extend the Task as well, in the even that an algorithm is built with additional objectives in mind (which is likely in Cloud scheduling etc.). \n"
   ]
  },
  {
   "cell_type": "code",
   "execution_count": 8,
   "metadata": {},
   "outputs": [],
   "source": [
    "class CloudTask(Task):\n",
    "   \n",
    "    def __init__(self):\n",
    "        super.__init__()\n",
    "        self.cost = None\n",
    "        \n",
    "    def calculate_cost_on_machine(self,machine):\n",
    "        return self.calc_runtime(machine=machine)*machine.cost"
   ]
  }
 ],
 "metadata": {
  "kernelspec": {
   "display_name": "Python 3",
   "language": "python",
   "name": "python3"
  },
  "language_info": {
   "codemirror_mode": {
    "name": "ipython",
    "version": 3
   },
   "file_extension": ".py",
   "mimetype": "text/x-python",
   "name": "python",
   "nbconvert_exporter": "python",
   "pygments_lexer": "ipython3",
   "version": "3.7.3"
  }
 },
 "nbformat": 4,
 "nbformat_minor": 2
}
