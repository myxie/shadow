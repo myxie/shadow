{
 "cells": [
  {
   "cell_type": "markdown",
   "metadata": {},
   "source": [
    "# SHADOWGen\n",
    "\n",
    "SHADOWGen collates a number of tools that are used in both the task-scheduling community, and the workflow scheduling community. \n",
    "\n",
    "## Overview\n",
    "\n",
    "DAX Format and Translator\n",
    "\n",
    "GGen graph generator \n",
    "\n",
    "DALIuGE Translator"
   ]
  },
  {
   "cell_type": "markdown",
   "metadata": {},
   "source": [
    "## DAX Translator"
   ]
  },
  {
   "cell_type": "code",
   "execution_count": 23,
   "metadata": {},
   "outputs": [],
   "source": [
    "from utils.shadowgen.dax import clean_xml, build_dag\n",
    "import networkx as nx\n",
    "import pydot\n",
    "import graphviz\n",
    "from IPython.display import Image, display\n",
    "\n",
    "def view_pydot(pdot):\n",
    "    plt = Image(pdot.create_png())"
   ]
  },
  {
   "cell_type": "code",
   "execution_count": 25,
   "metadata": {},
   "outputs": [],
   "source": [
    "clean_xml('../test/data/shadowgen/Epigenomics_24.xml', '../test/data/shadowgen/edit_Epigenomics_24.xml', 'xmlns',\n",
    "    '<adag version=\"2.1\" count=\"1\" index=\"0\" name=\"test\" jobCount=\"25\" fileCount=\"0\" childCount=\"20\">\\n')\n",
    "# moves edited xml to the nx DiGraph object\n",
    "finished_dag = build_dag('../test/data/shadowgen/edit_Epigenomics_24.xml')\n",
    "\n",
    "# Convert to image so we can see it \n",
    "dotgraph = nx.nx_pydot.to_pydot(finished_dag)\n",
    "view_pydot(dotgraph)"
   ]
  },
  {
   "cell_type": "markdown",
   "metadata": {},
   "source": [
    "![Epigenomics](output.png)"
   ]
  },
  {
   "cell_type": "code",
   "execution_count": 10,
   "metadata": {
    "scrolled": true
   },
   "outputs": [
    {
     "data": {
      "text/plain": [
       "{'ID00001': [],\n",
       " 'ID00006': ['ID00001'],\n",
       " 'ID00011': ['ID00006'],\n",
       " 'ID00016': ['ID00011'],\n",
       " 'ID00021': ['ID00016'],\n",
       " 'ID00022': ['ID00021'],\n",
       " 'ID00023': ['ID00022']}"
      ]
     },
     "execution_count": 10,
     "metadata": {},
     "output_type": "execute_result"
    }
   ],
   "source": [
    "nx.algorithms.shortest_paths.unweighted.predecessor(finished_dag,'ID00001')"
   ]
  }
 ],
 "metadata": {
  "kernelspec": {
   "display_name": "Python 3",
   "language": "python",
   "name": "python3"
  },
  "language_info": {
   "codemirror_mode": {
    "name": "ipython",
    "version": 3
   },
   "file_extension": ".py",
   "mimetype": "text/x-python",
   "name": "python",
   "nbconvert_exporter": "python",
   "pygments_lexer": "ipython3",
   "version": "3.7.3"
  }
 },
 "nbformat": 4,
 "nbformat_minor": 2
}
