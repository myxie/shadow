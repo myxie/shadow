{
 "cells": [
  {
   "cell_type": "code",
   "execution_count": 2,
   "metadata": {},
   "outputs": [],
   "source": [
    "from shadow.visualiser import plot, graph"
   ]
  },
  {
   "cell_type": "code",
   "execution_count": 3,
   "metadata": {},
   "outputs": [
    {
     "name": "stdout",
     "output_type": "stream",
     "text": [
      "Nothing is available for 2 - task must wait\n",
      "Nothing is available for 1 - task must wait\n"
     ]
    },
    {
     "data": {
      "image/png": "[encoded data removed]",
      "text/plain": [
       "<Figure size 432x288 with 3 Axes>"
      ]
     },
     "metadata": {
      "needs_background": "light"
     },
     "output_type": "display_data"
    },
    {
     "data": {
      "image/png": "[encoded data removed]",
      "text/plain": [
       "<Figure size 432x288 with 3 Axes>"
      ]
     },
     "metadata": {
      "needs_background": "light"
     },
     "output_type": "display_data"
    }
   ],
   "source": [
    "import shadow.models.workflow as swf\n",
    "import shadow.models.environment as senv\n",
    "import shadow.algorithms.heuristic as sheuristic\n",
    "import shadow.visualiser.plot as splot\n",
    "import matplotlib.pyplot as plt\n",
    "import os\n",
    "# os.chdir('../experiments/basic_visualisation')\n",
    "heft_workflow = swf.Workflow('final_heft.json')\n",
    "fcfs_workflow = swf.Workflow('final_heft.json')\n",
    "shared_env = senv.Environment('final_heft_sys.json')\n",
    "\n",
    "heft_workflow.add_environment(shared_env)\n",
    "fcfs_workflow.add_environment(shared_env)\n",
    "\n",
    "heft_solution = sheuristic.heft(heft_workflow)\n",
    "fcfs_solution = sheuristic.fcfs(fcfs_workflow)\n",
    "max_x = max(heft_solution.makespan,fcfs_solution.makespan)\n",
    "\n",
    "max_x = max(heft_solution.makespan,fcfs_solution.makespan)\n",
    "\n",
    "heft_plot = splot.AllocationPlot(heft_solution)\n",
    "heft_fig, heft_ax = heft_plot.plot()\n",
    "for x in heft_ax:\n",
    "\tx.set_xlim(right=max_x+10)\n",
    "# heft_ax.set_xlim(right=1000)\n",
    "# plt.xlim([0,max_x+10])\n",
    "plt.show()\n",
    "fcfs_plot = splot.AllocationPlot(fcfs_solution)\n",
    "fcfs_fig, fcfs_ax = fcfs_plot.plot()\n",
    "for x in fcfs_ax:\n",
    "\tx.set_xlim(right=max_x+10)\n",
    "# plt.xlim([0,max_x+10])\n",
    "plt.show()"
   ]
  },
  {
   "cell_type": "code",
   "execution_count": 2,
   "metadata": {},
   "outputs": [
    {
     "ename": "NameError",
     "evalue": "name 'swf' is not defined",
     "output_type": "error",
     "traceback": [
      "\u001b[0;31m---------------------------------------------------------------------------\u001b[0m",
      "\u001b[0;31mNameError\u001b[0m                                 Traceback (most recent call last)",
      "\u001b[0;32m<ipython-input-2-7d9b2c23fc43>\u001b[0m in \u001b[0;36m<module>\u001b[0;34m\u001b[0m\n\u001b[1;32m      1\u001b[0m \u001b[0;31m# os.chdir('../dax_files')\u001b[0m\u001b[0;34m\u001b[0m\u001b[0;34m\u001b[0m\u001b[0;34m\u001b[0m\u001b[0m\n\u001b[0;32m----> 2\u001b[0;31m \u001b[0mheft_workflow\u001b[0m \u001b[0;34m=\u001b[0m \u001b[0mswf\u001b[0m\u001b[0;34m.\u001b[0m\u001b[0mWorkflow\u001b[0m\u001b[0;34m(\u001b[0m\u001b[0;34m'output/shadow_Epigenomics_24.json'\u001b[0m\u001b[0;34m)\u001b[0m\u001b[0;34m\u001b[0m\u001b[0;34m\u001b[0m\u001b[0m\n\u001b[0m\u001b[1;32m      3\u001b[0m \u001b[0mfcfs_workflow\u001b[0m \u001b[0;34m=\u001b[0m \u001b[0mswf\u001b[0m\u001b[0;34m.\u001b[0m\u001b[0mWorkflow\u001b[0m\u001b[0;34m(\u001b[0m\u001b[0;34m'output/shadow_Epigenomics_24.json'\u001b[0m\u001b[0;34m)\u001b[0m\u001b[0;34m\u001b[0m\u001b[0;34m\u001b[0m\u001b[0m\n\u001b[1;32m      4\u001b[0m \u001b[0mshared_env\u001b[0m \u001b[0;34m=\u001b[0m \u001b[0msenv\u001b[0m\u001b[0;34m.\u001b[0m\u001b[0mEnvironment\u001b[0m\u001b[0;34m(\u001b[0m\u001b[0;34m'final_heft_sys.json'\u001b[0m\u001b[0;34m)\u001b[0m\u001b[0;34m\u001b[0m\u001b[0;34m\u001b[0m\u001b[0m\n\u001b[1;32m      5\u001b[0m \u001b[0;34m\u001b[0m\u001b[0m\n",
      "\u001b[0;31mNameError\u001b[0m: name 'swf' is not defined"
     ]
    }
   ],
   "source": [
    "# os.chdir('../dax_files')\n",
    "heft_workflow = swf.Workflow('output/shadow_Epigenomics_24.json')\n",
    "fcfs_workflow = swf.Workflow('output/shadow_Epigenomics_24.json')\n",
    "shared_env = senv.Environment('final_heft_sys.json')\n",
    "\n",
    "heft_workflow.add_environment(shared_env)\n",
    "fcfs_workflow.add_environment(shared_env)\n",
    "\n",
    "heft_solution = sheuristic.heft(heft_workflow)\n",
    "fcfs_solution = sheuristic.fcfs(fcfs_workflow)\n",
    "max_x = max(heft_solution.makespan,fcfs_solution.makespan)\n",
    "\n",
    "max_x = max(heft_solution.makespan,fcfs_solution.makespan)\n",
    "\n",
    "heft_plot = splot.AllocationPlot(heft_solution)\n",
    "heft_fig, heft_ax = heft_plot.plot()\n",
    "for x in heft_ax:\n",
    "\tx.set_xlim(right=max_x+10)\n",
    "# heft_ax.set_xlim(right=1000)\n",
    "# plt.xlim([0,max_x+10])\n",
    "plt.show()\n",
    "fcfs_plot = splot.AllocationPlot(fcfs_solution)\n",
    "fcfs_fig, fcfs_ax = fcfs_plot.plot()\n",
    "for x in fcfs_ax:\n",
    "\tx.set_xlim(right=max_x+10)\n",
    "# plt.xlim([0,max_x+10])\n",
    "plt.show()"
   ]
  },
  {
   "cell_type": "code",
   "execution_count": 1,
   "metadata": {},
   "outputs": [
    {
     "ename": "NameError",
     "evalue": "name 'fcfs_workflow' is not defined",
     "output_type": "error",
     "traceback": [
      "\u001b[0;31m---------------------------------------------------------------------------\u001b[0m",
      "\u001b[0;31mNameError\u001b[0m                                 Traceback (most recent call last)",
      "\u001b[0;32m<ipython-input-1-2656f84c432e>\u001b[0m in \u001b[0;36m<module>\u001b[0;34m\u001b[0m\n\u001b[1;32m      1\u001b[0m \u001b[0;32mimport\u001b[0m \u001b[0mshadow\u001b[0m\u001b[0;34m.\u001b[0m\u001b[0mvisualiser\u001b[0m\u001b[0;34m.\u001b[0m\u001b[0mgraph\u001b[0m \u001b[0;32mas\u001b[0m \u001b[0msgraph\u001b[0m\u001b[0;34m\u001b[0m\u001b[0;34m\u001b[0m\u001b[0m\n\u001b[1;32m      2\u001b[0m \u001b[0;34m\u001b[0m\u001b[0m\n\u001b[0;32m----> 3\u001b[0;31m \u001b[0msgraph\u001b[0m\u001b[0;34m.\u001b[0m\u001b[0mvisualise_graph\u001b[0m\u001b[0;34m(\u001b[0m\u001b[0mfcfs_workflow\u001b[0m\u001b[0;34m.\u001b[0m\u001b[0mgraph\u001b[0m\u001b[0;34m,\u001b[0m\u001b[0;34m'workflow.png'\u001b[0m\u001b[0;34m)\u001b[0m\u001b[0;34m\u001b[0m\u001b[0;34m\u001b[0m\u001b[0m\n\u001b[0m\u001b[1;32m      4\u001b[0m \u001b[0;32mfrom\u001b[0m \u001b[0mIPython\u001b[0m\u001b[0;34m.\u001b[0m\u001b[0mdisplay\u001b[0m \u001b[0;32mimport\u001b[0m \u001b[0mImage\u001b[0m\u001b[0;34m\u001b[0m\u001b[0;34m\u001b[0m\u001b[0m\n\u001b[1;32m      5\u001b[0m \u001b[0mImage\u001b[0m\u001b[0;34m(\u001b[0m\u001b[0mfilename\u001b[0m\u001b[0;34m=\u001b[0m\u001b[0;34m'workflow.png'\u001b[0m\u001b[0;34m)\u001b[0m\u001b[0;34m\u001b[0m\u001b[0;34m\u001b[0m\u001b[0m\n",
      "\u001b[0;31mNameError\u001b[0m: name 'fcfs_workflow' is not defined"
     ]
    }
   ],
   "source": [
    "import shadow.visualiser.graph as sgraph\n",
    "\n",
    "sgraph.visualise_graph(fcfs_workflow.graph,'workflow.png')\n",
    "from IPython.display import Image\n",
    "Image(filename='workflow.png') "
   ]
  },
  {
   "cell_type": "markdown",
   "metadata": {},
   "source": [
    "![]('workflow.png')"
   ]
  }
 ],
 "metadata": {
  "kernelspec": {
   "display_name": "Python 3",
   "language": "python",
   "name": "python3"
  },
  "language_info": {
   "codemirror_mode": {
    "name": "ipython",
    "version": 3
   },
   "file_extension": ".py",
   "mimetype": "text/x-python",
   "name": "python",
   "nbconvert_exporter": "python",
   "pygments_lexer": "ipython3",
   "version": "3.7.3"
  }
 },
 "nbformat": 4,
 "nbformat_minor": 2
}
